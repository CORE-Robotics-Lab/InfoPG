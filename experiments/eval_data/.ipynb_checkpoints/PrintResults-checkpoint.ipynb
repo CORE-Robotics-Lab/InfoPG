{
 "cells": [
  {
   "cell_type": "code",
   "execution_count": 2,
   "id": "21fceaa9-608e-4913-9b8c-6c2adc84eb0d",
   "metadata": {},
   "outputs": [],
   "source": [
    "import os\n",
    "import numpy as np"
   ]
  },
  {
   "cell_type": "code",
   "execution_count": 3,
   "id": "8708f5fd-e6ba-4c12-ac6e-5bc10b473e03",
   "metadata": {},
   "outputs": [],
   "source": [
    "def get_reward_mean(arr):\n",
    "    return arr.mean(axis=0).sum(axis=0)[0].squeeze(-1)\n",
    "\n",
    "def get_reward_standard_error(arr):\n",
    "    num_samples = len(arr)\n",
    "    return arr.sum(axis=1)[:, 0].squeeze(-1).std()/num_samples\n",
    "\n",
    "def get_steps_mean(arr):\n",
    "    return arr.mean(axis=0).mean(axis=0)[1].squeeze(-1)\n",
    "\n",
    "def get_steps_standard_error(arr):\n",
    "    num_samples = len(arr)\n",
    "    return arr.mean(axis=1)[:, 1].squeeze(-1).std()/num_samples"
   ]
  },
  {
   "cell_type": "markdown",
   "id": "b1dd627f-b576-47bf-9bc3-d8f3f0ba9242",
   "metadata": {},
   "source": [
    "# Pong"
   ]
  },
  {
   "cell_type": "code",
   "execution_count": 6,
   "id": "4d8b1a3d-5d51-463b-8123-ba46563d310d",
   "metadata": {},
   "outputs": [
    {
     "name": "stdout",
     "output_type": "stream",
     "text": [
      "(100, 2, 2, 1)\n",
      "For moa:\n",
      "\t Mean Avg rewards: -0.388, Standard Error: 0.003\n",
      "\t Mean Avg steps: 44.680, Standard Error: 0.350\n",
      "(100, 2, 2, 1)\n",
      "For k_3:\n",
      "\t Mean Avg rewards: 0.081, Standard Error: 0.004\n",
      "\t Mean Avg steps: 174.140, Standard Error: 1.573\n",
      "(100, 2, 2, 1)\n",
      "For k_2:\n",
      "\t Mean Avg rewards: 0.165, Standard Error: 0.003\n",
      "\t Mean Avg steps: 181.740, Standard Error: 1.350\n",
      "(100, 2, 2, 1)\n",
      "For k_1:\n",
      "\t Mean Avg rewards: 0.171, Standard Error: 0.004\n",
      "\t Mean Avg steps: 203.160, Standard Error: 1.705\n",
      "(100, 2, 2, 1)\n",
      "For k_1_unclamped:\n",
      "\t Mean Avg rewards: 0.218, Standard Error: 0.004\n",
      "\t Mean Avg steps: 213.620, Standard Error: 1.532\n",
      "(100, 2, 2, 1)\n",
      "For nc_a2c:\n",
      "\t Mean Avg rewards: -0.175, Standard Error: 0.004\n",
      "\t Mean Avg steps: 84.410, Standard Error: 0.938\n",
      "(100, 2, 2, 1)\n",
      "For consensus_update:\n",
      "\t Mean Avg rewards: 0.054, Standard Error: 0.003\n",
      "\t Mean Avg steps: 134.730, Standard Error: 1.111\n"
     ]
    }
   ],
   "source": [
    "for file_name in os.listdir('pong/'):\n",
    "    if file_name == '.DS_Store':\n",
    "        continue\n",
    "    data = np.load(os.path.join('pong', file_name))\n",
    "    print(data.shape)\n",
    "    print('For %s:' % (file_name.split('.')[0]))\n",
    "    print('\\t', 'Mean Avg rewards: %.3f, Standard Error: %.3f' % (get_reward_mean(data), get_reward_standard_error(data)))\n",
    "    print('\\t', 'Mean Avg steps: %.3f, Standard Error: %.3f' % (get_steps_mean(data), get_steps_standard_error(data)))"
   ]
  },
  {
   "cell_type": "markdown",
   "id": "9c701c43-7e41-4a7a-9aca-77385e4098ce",
   "metadata": {},
   "source": [
    "# Pistonball"
   ]
  },
  {
   "cell_type": "code",
   "execution_count": 4,
   "id": "09566f7d-599d-4817-8f2d-c670a0a38bc1",
   "metadata": {},
   "outputs": [
    {
     "name": "stdout",
     "output_type": "stream",
     "text": [
      "For 5agent_infopg_nocritic(k=2):\n",
      "\t Mean Avg rewards: 7.363, Standard Error: 0.022\n",
      "\t Mean Avg steps: 15.110, Standard Error: 0.227\n",
      "For 5agent_infopg(k=1):\n",
      "\t Mean Avg rewards: 7.107, Standard Error: 0.026\n",
      "\t Mean Avg steps: 27.280, Standard Error: 0.397\n",
      "For 5agent_a2c:\n",
      "\t Mean Avg rewards: 0.859, Standard Error: 0.046\n",
      "\t Mean Avg steps: 141.940, Standard Error: 0.830\n",
      "For 5agent_consensusupdate:\n",
      "\t Mean Avg rewards: 0.894, Standard Error: 0.046\n",
      "\t Mean Avg steps: 146.600, Standard Error: 0.783\n",
      "For 5agent_moa:\n",
      "\t Mean Avg rewards: 3.737, Standard Error: 0.033\n",
      "\t Mean Avg steps: 82.620, Standard Error: 0.711\n",
      "For 5agent_infopg(k=2):\n",
      "\t Mean Avg rewards: 7.220, Standard Error: 0.032\n",
      "\t Mean Avg steps: 31.360, Standard Error: 0.510\n",
      "For 5agent_infopg_nocritic(k=1):\n",
      "\t Mean Avg rewards: 5.093, Standard Error: 0.041\n",
      "\t Mean Avg steps: 56.700, Standard Error: 0.742\n"
     ]
    }
   ],
   "source": [
    "for file_name in os.listdir('piston/'):\n",
    "    data = np.load(os.path.join('piston', file_name))\n",
    "    print('For %s:' % (file_name.split('.')[0]))\n",
    "    print('\\t', 'Mean Avg rewards: %.3f, Standard Error: %.3f' % (get_reward_mean(data), get_reward_standard_error(data)))\n",
    "    print('\\t', 'Mean Avg steps: %.3f, Standard Error: %.3f' % (get_steps_mean(data), get_steps_standard_error(data)))"
   ]
  },
  {
   "cell_type": "markdown",
   "id": "93479eb1-2ffe-43a6-8cc0-8c57cf852af2",
   "metadata": {},
   "source": [
    "# Walker"
   ]
  },
  {
   "cell_type": "code",
   "execution_count": 4,
   "id": "02230f8f-df6c-4bb5-93dc-08ade0256908",
   "metadata": {},
   "outputs": [
    {
     "ename": "ValueError",
     "evalue": "Cannot load file containing pickled data when allow_pickle=False",
     "output_type": "error",
     "traceback": [
      "\u001b[0;31m---------------------------------------------------------------------------\u001b[0m",
      "\u001b[0;31mValueError\u001b[0m                                Traceback (most recent call last)",
      "\u001b[0;32m<ipython-input-4-665719cc4c1e>\u001b[0m in \u001b[0;36m<module>\u001b[0;34m\u001b[0m\n\u001b[1;32m      1\u001b[0m \u001b[0;32mfor\u001b[0m \u001b[0mfile_name\u001b[0m \u001b[0;32min\u001b[0m \u001b[0mos\u001b[0m\u001b[0;34m.\u001b[0m\u001b[0mlistdir\u001b[0m\u001b[0;34m(\u001b[0m\u001b[0;34m'walker/'\u001b[0m\u001b[0;34m)\u001b[0m\u001b[0;34m:\u001b[0m\u001b[0;34m\u001b[0m\u001b[0;34m\u001b[0m\u001b[0m\n\u001b[0;32m----> 2\u001b[0;31m     \u001b[0mdata\u001b[0m \u001b[0;34m=\u001b[0m \u001b[0mnp\u001b[0m\u001b[0;34m.\u001b[0m\u001b[0mload\u001b[0m\u001b[0;34m(\u001b[0m\u001b[0mos\u001b[0m\u001b[0;34m.\u001b[0m\u001b[0mpath\u001b[0m\u001b[0;34m.\u001b[0m\u001b[0mjoin\u001b[0m\u001b[0;34m(\u001b[0m\u001b[0;34m'walker'\u001b[0m\u001b[0;34m,\u001b[0m \u001b[0mfile_name\u001b[0m\u001b[0;34m)\u001b[0m\u001b[0;34m)\u001b[0m\u001b[0;34m\u001b[0m\u001b[0;34m\u001b[0m\u001b[0m\n\u001b[0m\u001b[1;32m      3\u001b[0m     \u001b[0mprint\u001b[0m\u001b[0;34m(\u001b[0m\u001b[0;34m'For %s:'\u001b[0m \u001b[0;34m%\u001b[0m \u001b[0;34m(\u001b[0m\u001b[0mfile_name\u001b[0m\u001b[0;34m.\u001b[0m\u001b[0msplit\u001b[0m\u001b[0;34m(\u001b[0m\u001b[0;34m'.'\u001b[0m\u001b[0;34m)\u001b[0m\u001b[0;34m[\u001b[0m\u001b[0;36m0\u001b[0m\u001b[0;34m]\u001b[0m\u001b[0;34m)\u001b[0m\u001b[0;34m)\u001b[0m\u001b[0;34m\u001b[0m\u001b[0;34m\u001b[0m\u001b[0m\n\u001b[1;32m      4\u001b[0m     \u001b[0mprint\u001b[0m\u001b[0;34m(\u001b[0m\u001b[0;34m'\\t'\u001b[0m\u001b[0;34m,\u001b[0m \u001b[0;34m'Mean Avg rewards: %.3f, Standard Error: %.3f'\u001b[0m \u001b[0;34m%\u001b[0m \u001b[0;34m(\u001b[0m\u001b[0mget_reward_mean\u001b[0m\u001b[0;34m(\u001b[0m\u001b[0mdata\u001b[0m\u001b[0;34m)\u001b[0m\u001b[0;34m,\u001b[0m \u001b[0mget_reward_standard_error\u001b[0m\u001b[0;34m(\u001b[0m\u001b[0mdata\u001b[0m\u001b[0;34m)\u001b[0m\u001b[0;34m)\u001b[0m\u001b[0;34m)\u001b[0m\u001b[0;34m\u001b[0m\u001b[0;34m\u001b[0m\u001b[0m\n\u001b[1;32m      5\u001b[0m     \u001b[0mprint\u001b[0m\u001b[0;34m(\u001b[0m\u001b[0;34m'\\t'\u001b[0m\u001b[0;34m,\u001b[0m \u001b[0;34m'Mean Avg steps: %.3f, Standard Error: %.3f'\u001b[0m \u001b[0;34m%\u001b[0m \u001b[0;34m(\u001b[0m\u001b[0mget_steps_mean\u001b[0m\u001b[0;34m(\u001b[0m\u001b[0mdata\u001b[0m\u001b[0;34m)\u001b[0m\u001b[0;34m,\u001b[0m \u001b[0mget_steps_standard_error\u001b[0m\u001b[0;34m(\u001b[0m\u001b[0mdata\u001b[0m\u001b[0;34m)\u001b[0m\u001b[0;34m)\u001b[0m\u001b[0;34m)\u001b[0m\u001b[0;34m\u001b[0m\u001b[0;34m\u001b[0m\u001b[0m\n",
      "\u001b[0;32m~/opt/anaconda3/envs/marl/lib/python3.7/site-packages/numpy/lib/npyio.py\u001b[0m in \u001b[0;36mload\u001b[0;34m(file, mmap_mode, allow_pickle, fix_imports, encoding)\u001b[0m\n\u001b[1;32m    443\u001b[0m             \u001b[0;31m# Try a pickle\u001b[0m\u001b[0;34m\u001b[0m\u001b[0;34m\u001b[0m\u001b[0;34m\u001b[0m\u001b[0m\n\u001b[1;32m    444\u001b[0m             \u001b[0;32mif\u001b[0m \u001b[0;32mnot\u001b[0m \u001b[0mallow_pickle\u001b[0m\u001b[0;34m:\u001b[0m\u001b[0;34m\u001b[0m\u001b[0;34m\u001b[0m\u001b[0m\n\u001b[0;32m--> 445\u001b[0;31m                 raise ValueError(\"Cannot load file containing pickled data \"\n\u001b[0m\u001b[1;32m    446\u001b[0m                                  \"when allow_pickle=False\")\n\u001b[1;32m    447\u001b[0m             \u001b[0;32mtry\u001b[0m\u001b[0;34m:\u001b[0m\u001b[0;34m\u001b[0m\u001b[0;34m\u001b[0m\u001b[0m\n",
      "\u001b[0;31mValueError\u001b[0m: Cannot load file containing pickled data when allow_pickle=False"
     ]
    }
   ],
   "source": [
    "for file_name in os.listdir('walker/'):\n",
    "    data = np.load(os.path.join('walker', file_name))\n",
    "    print('For %s:' % (file_name.split('.')[0]))\n",
    "    print('\\t', 'Mean Avg rewards: %.3f, Standard Error: %.3f' % (get_reward_mean(data), get_reward_standard_error(data)))\n",
    "    print('\\t', 'Mean Avg steps: %.3f, Standard Error: %.3f' % (get_steps_mean(data), get_steps_standard_error(data)))"
   ]
  }
 ],
 "metadata": {
  "kernelspec": {
   "display_name": "Python 3",
   "language": "python",
   "name": "python3"
  },
  "language_info": {
   "codemirror_mode": {
    "name": "ipython",
    "version": 3
   },
   "file_extension": ".py",
   "mimetype": "text/x-python",
   "name": "python",
   "nbconvert_exporter": "python",
   "pygments_lexer": "ipython3",
   "version": "3.7.10"
  }
 },
 "nbformat": 4,
 "nbformat_minor": 5
}
